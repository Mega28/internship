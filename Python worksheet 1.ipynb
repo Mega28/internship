{
 "cells": [
  {
   "cell_type": "markdown",
   "id": "5fe78f2c",
   "metadata": {},
   "source": [
    "# Program to find factorial number"
   ]
  },
  {
   "cell_type": "code",
   "execution_count": 1,
   "id": "7c43649a",
   "metadata": {},
   "outputs": [
    {
     "name": "stdout",
     "output_type": "stream",
     "text": [
      "The factorial of 7 is 5040\n"
     ]
    }
   ],
   "source": [
    "num = 7\n",
    "factorial = 1\n",
    "\n",
    "if num < 0:\n",
    "   print(\"Sorry, factorial does not exist for negative numbers\")\n",
    "elif num == 0:\n",
    "   print(\"The factorial of 0 is 1\")\n",
    "else:\n",
    "   for i in range(1,num + 1):\n",
    "       factorial = factorial*i\n",
    "   print(\"The factorial of\",num,\"is\",factorial)\n"
   ]
  },
  {
   "cell_type": "markdown",
   "id": "69af5e50",
   "metadata": {},
   "source": [
    "# Program to find whether number is prime or composite"
   ]
  },
  {
   "cell_type": "code",
   "execution_count": 2,
   "id": "f0b0587c",
   "metadata": {},
   "outputs": [
    {
     "name": "stdout",
     "output_type": "stream",
     "text": [
      "Enter any number: 56564\n",
      "56564 is NOT a prime number\n"
     ]
    }
   ],
   "source": [
    "num=int(input(\"Enter any number: \"))\n",
    "if num>1:\n",
    "    for i in range(2,num):\n",
    "        if (num%i)==0:\n",
    "            print(num,\"is NOT a prime number\")\n",
    "            break \n",
    "        else:\n",
    "            print(num,\"is a PRIME number\")\n",
    "elif num==0 or 1:\n",
    "    print(num,\"is a neither prime NOR composite number\")\n",
    "else:\n",
    "    print(num,\"is NOT a prime number it is a composite number\") "
   ]
  },
  {
   "cell_type": "markdown",
   "id": "58504a79",
   "metadata": {},
   "source": [
    "# Program to check whether a string palindrome or not"
   ]
  },
  {
   "cell_type": "code",
   "execution_count": 3,
   "id": "17dd558e",
   "metadata": {},
   "outputs": [
    {
     "name": "stdout",
     "output_type": "stream",
     "text": [
      "The string is a palindrome\n"
     ]
    }
   ],
   "source": [
    "my_str=\"aIbohPhoBiA\"\n",
    "my_str=my_str.casefold()\n",
    "rev_str=reversed(my_str)\n",
    "if list(my_str)==list(rev_str):\n",
    "    print(\"The string is a palindrome\")\n",
    "else:\n",
    "    print(\"The string is not a palindrome\")"
   ]
  },
  {
   "cell_type": "markdown",
   "id": "ca41996b",
   "metadata": {},
   "source": [
    "# Program to find a side of a right angled triangle whose two sides and an angle is given"
   ]
  },
  {
   "cell_type": "code",
   "execution_count": 5,
   "id": "08a966a7",
   "metadata": {},
   "outputs": [
    {
     "name": "stdout",
     "output_type": "stream",
     "text": [
      "Enter base: 10.5\n",
      "Enter height: 5.5\n",
      "Enter angle: 60\n",
      "Hypotenuse = 11.853269591129697\n"
     ]
    }
   ],
   "source": [
    "import math\n",
    "a = float(input(\"Enter base: \"))\n",
    "b = float(input(\"Enter height: \"))\n",
    "x = float(input(\"Enter angle: \"))\n",
    "c = math.sqrt(a ** 2 + b ** 2)\n",
    "print(\"Hypotenuse =\", c) "
   ]
  },
  {
   "cell_type": "markdown",
   "id": "50440097",
   "metadata": {},
   "source": [
    "# Program to find the frequency of the each character in the given string"
   ]
  },
  {
   "cell_type": "markdown",
   "id": "1a3712ea",
   "metadata": {},
   "source": [
    "Program 1"
   ]
  },
  {
   "cell_type": "code",
   "execution_count": 6,
   "id": "e48b0ce3",
   "metadata": {},
   "outputs": [
    {
     "name": "stdout",
     "output_type": "stream",
     "text": [
      "Enter the string Python\n",
      "Character and their frequency\n",
      "P=1\n",
      "y=1\n",
      "t=1\n",
      "h=1\n",
      "o=1\n",
      "n=1\n"
     ]
    }
   ],
   "source": [
    "string=input(\"Enter the string \")\n",
    "freq=[None]*len(string)\n",
    "for i in range(0,len(string)):\n",
    "  freq[i]=1\n",
    "  for j in range(i+1,len(string)):\n",
    "    if(string[i]==string[j]):\n",
    "        freq[i]=freq[i]+1\n",
    "        string=string[:j]+'0'+string[j+1:];\n",
    "print(\"Character and their frequency\");\n",
    "for i in range(0,len(freq)):\n",
    "    if(string[i]!=' ' and string[i]!='0'):\n",
    "        print(string[i]+\"=\"+str(freq[i])) "
   ]
  },
  {
   "cell_type": "markdown",
   "id": "40736902",
   "metadata": {},
   "source": [
    "program 2"
   ]
  },
  {
   "cell_type": "code",
   "execution_count": 7,
   "id": "7d3b8738",
   "metadata": {},
   "outputs": [
    {
     "name": "stdout",
     "output_type": "stream",
     "text": [
      "Enter the string: Mypython\n",
      "M,1\n",
      "y,2\n",
      "p,1\n",
      "t,1\n",
      "h,1\n",
      "o,1\n",
      "n,1\n"
     ]
    }
   ],
   "source": [
    "string=input(\"Enter the string: \")\n",
    "str1=list(string)\n",
    "strlist=[]\n",
    "for j in str1:\n",
    "    if j not in strlist:\n",
    "       strlist.append(j)\n",
    "       count=0\n",
    "       for i in range(len(str1)):\n",
    "         if j==str1[i]:\n",
    "           count+=1\n",
    "       print(\"{},{}\".format(j,count)) "
   ]
  }
 ],
 "metadata": {
  "kernelspec": {
   "display_name": "Python 3 (ipykernel)",
   "language": "python",
   "name": "python3"
  },
  "language_info": {
   "codemirror_mode": {
    "name": "ipython",
    "version": 3
   },
   "file_extension": ".py",
   "mimetype": "text/x-python",
   "name": "python",
   "nbconvert_exporter": "python",
   "pygments_lexer": "ipython3",
   "version": "3.9.7"
  }
 },
 "nbformat": 4,
 "nbformat_minor": 5
}
